{
 "cells": [
  {
   "attachments": {},
   "cell_type": "markdown",
   "metadata": {},
   "source": [
    "# Lab 2 — Exploring Image Data\n",
    "### by Eddie Diaz\n",
    "\n",
    "## Chosen Dataset\n",
    "https://www.v7labs.com/open-datasets/multiple-pose-human-body-database\n",
    "\n",
    "## Business Understanding\n",
    "\n",
    "This dataset was made by v7 Labs for the purpose of training machines to identify various qualities of people. The range of ML predictive capabilities using this dataset include poses, activities, gender, body type, and more. Third parties who build recognition software would benefit from these machine learning algorithms because they allow for software to identify the user, his/her features, and whichever activity they are performing. \n",
    "\n",
    "One particular task that could be interesting is the ability for machines to gauge proper form at the gym. Although working out is crucial for long-term health, repeating incorrect movement patterns can be very detrimental. For instance, someone that performs deadlifts while bending their spine could develop chronic back problems over time. A technology-enabled tool that prevents these problems and offers corrective feedback could therefore prove highly beneficial to many people. Furthermore, by comparing a particular exercise to a dataset with both proper and improper form, it should be relatively easy for the machine to pick up on incorrect patterns with only average performance.\n",
    "\n",
    "However, this task is beyond the scope of this assignment. For now, I want to build a simple algorithm that can determine whether a person is performing physical activity. I feel like this is a good start.\n",
    "\n",
    "## Data Preparation\n",
    "\n",
    "To begin working with image data, I will first load the images as a numpy array,resizing and recoloring as necessary. "
   ]
  }
 ],
 "metadata": {
  "language_info": {
   "name": "python"
  },
  "orig_nbformat": 4
 },
 "nbformat": 4,
 "nbformat_minor": 2
}
